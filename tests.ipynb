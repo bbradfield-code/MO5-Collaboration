{
 "cells": [
  {
   "cell_type": "code",
   "execution_count": null,
   "id": "c2d78adf-5705-4ae0-8c48-c61694eb3ab6",
   "metadata": {},
   "outputs": [],
   "source": [
    "#Brendan Bradfield\n",
    "#SDEV220\n",
    "#7/5/2024\n",
    "#tests"
   ]
  },
  {
   "cell_type": "code",
   "execution_count": null,
   "id": "d5987fa6-c238-42b8-a35a-843fc0a1b1e9",
   "metadata": {},
   "outputs": [],
   "source": [
    "    def test_list_fraction(self):\n",
    "        \"\"\"\n",
    "        Test that it can sum a list of fractions\n",
    "        \"\"\"\n",
    "        data = [Fraction(1, 4), Fraction(1, 4), Fraction(2, 5)]\n",
    "        result = sum(data)\n",
    "        self.assertEqual(result, 1)"
   ]
  },
  {
   "cell_type": "code",
   "execution_count": null,
   "id": "bb1ef2b6-33d5-4cd7-b96a-b15fcb896d7a",
   "metadata": {},
   "outputs": [],
   "source": [
    "    def test_list_fraction(self):\n",
    "        \"\"\"\n",
    "        Test that it can sum a list of fractions\n",
    "        \"\"\"\n",
    "        data = [Fraction(1, 4), Fraction(1, 4), Fraction(2, 5)]\n",
    "        result = sum(data)\n",
    "        self.assertEqual(result, 1)"
   ]
  },
  {
   "cell_type": "code",
   "execution_count": null,
   "id": "686ebb29-32ea-4045-8380-ffcce06bf37c",
   "metadata": {},
   "outputs": [],
   "source": [
    "   def sum(arg):\n",
    "    total = 0\n",
    "    for val in arg:\n",
    "        total += val\n",
    "    return total"
   ]
  },
  {
   "cell_type": "code",
   "execution_count": null,
   "id": "4bb045f0-33a3-46e4-8166-6418d0e76e0b",
   "metadata": {},
   "outputs": [],
   "source": [
    "from fractions import Fraction\n",
    "\n",
    "import unittest\n",
    "\n",
    "from my_sum import sum\n",
    "\n",
    "\n",
    "class TestSum(unittest.TestCase):\n",
    "    def test_list_int(self):\n",
    "        \"\"\"\n",
    "        Test that it can sum a list of integers\n",
    "        \"\"\"\n",
    "        data = [1, 2, 3]\n",
    "        result = sum(data)\n",
    "        self.assertEqual(result, 6)\n",
    "\n",
    "    def test_list_fraction(self):\n",
    "        \"\"\"\n",
    "        Test that it can sum a list of fractions\n",
    "        \"\"\"\n",
    "        data = [Fraction(1, 4), Fraction(1, 4), Fraction(2, 5)]\n",
    "        result = sum(data)\n",
    "        self.assertEqual(result, 1)\n",
    "\n",
    "if __name__ == '__main__':\n",
    "    unittest.main()\n"
   ]
  },
  {
   "cell_type": "code",
   "execution_count": null,
   "id": "69dd5ca3-ca39-40e2-acd5-222ffa56ca05",
   "metadata": {},
   "outputs": [],
   "source": [
    "import unittest\n",
    "\n",
    "\n",
    "class TestSum(unittest.TestCase):\n",
    "\n",
    "    def test_sum(self):\n",
    "        self.assertEqual(sum([1, 2, 3]), 6, \"Should be 6\")\n",
    "\n",
    "    def test_sum_tuple(self):\n",
    "        self.assertEqual(sum((1, 2, 2)), 6, \"Should be 6\")\n",
    "\n",
    "if __name__ == '__main__':\n",
    "    unittest.main()"
   ]
  },
  {
   "cell_type": "code",
   "execution_count": null,
   "id": "4f3e92a9-1897-49da-bc4b-9c9b40c39af1",
   "metadata": {},
   "outputs": [],
   "source": [
    "# even while following the directions exactly the test still failed. im not entirely sure why they would have make something that fails but im sure that\n",
    "#it goes more in depth if we followed more of it and you would end up fixing it\n",
    "#it also showed me to be more careful about just slapping code together and to make sure I have ev"
   ]
  }
 ],
 "metadata": {
  "kernelspec": {
   "display_name": "Python 3 (ipykernel)",
   "language": "python",
   "name": "python3"
  },
  "language_info": {
   "codemirror_mode": {
    "name": "ipython",
    "version": 3
   },
   "file_extension": ".py",
   "mimetype": "text/x-python",
   "name": "python",
   "nbconvert_exporter": "python",
   "pygments_lexer": "ipython3",
   "version": "3.11.7"
  }
 },
 "nbformat": 4,
 "nbformat_minor": 5
}
